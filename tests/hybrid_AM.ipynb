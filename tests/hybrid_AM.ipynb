{
 "cells": [
  {
   "cell_type": "code",
   "execution_count": 1,
   "metadata": {},
   "outputs": [
    {
     "name": "stdout",
     "output_type": "stream",
     "text": [
      "cpu\n"
     ]
    }
   ],
   "source": [
    "import torch\n",
    "from torchvision import datasets, transforms\n",
    "from torchvision.transforms import transforms\n",
    "import torch.optim as optim\n",
    "import torch.nn as nn\n",
    "import random\n",
    "import numpy as np\n",
    "import matplotlib.pyplot as plt\n",
    "from matplotlib.lines import Line2D\n",
    "from tqdm import tqdm\n",
    "from sklearn.metrics.pairwise import cosine_similarity\n",
    "from src.get_data import *\n",
    "from src.models import *\n",
    "from src.utils import *\n",
    "\n",
    "device = \"cuda\" if torch.cuda.is_available() else \"cpu\"\n",
    "print(device)"
   ]
  },
  {
   "cell_type": "code",
   "execution_count": 2,
   "metadata": {},
   "outputs": [
    {
     "name": "stdout",
     "output_type": "stream",
     "text": [
      "Files already downloaded and verified\n",
      "Files already downloaded and verified\n",
      "3072\n",
      "Epoch 0\n",
      "Epoch 10\n",
      "Epoch 20\n",
      "Epoch 30\n",
      "Epoch 40\n",
      "Epoch 50\n",
      "Epoch 60\n",
      "Epoch 70\n",
      "Epoch 80\n",
      "Epoch 90\n",
      "Epoch 100\n",
      "Epoch 110\n",
      "Epoch 120\n",
      "Epoch 130\n",
      "Epoch 140\n",
      "Epoch 150\n",
      "Epoch 160\n",
      "Epoch 170\n",
      "Epoch 180\n",
      "Epoch 190\n"
     ]
    }
   ],
   "source": [
    "learning_iters = 200\n",
    "learning_lr = 1e-3\n",
    "inference_iters = 200\n",
    "inference_lr = 0.01\n",
    "batch_size = 20\n",
    "noise_var = 0.05\n",
    "divisor = 2\n",
    "image_size = 32\n",
    "sample_size = 20 \n",
    "sample_size_test = 20\n",
    "lamb = 0\n",
    "repeat = 1\n",
    "\n",
    "for seed in range(repeat):\n",
    "    (X, y), (X_test, y_test) = get_cifar10('../data', \n",
    "                                        sample_size=sample_size, \n",
    "                                        sample_size_test=sample_size_test,\n",
    "                                        batch_size=batch_size, \n",
    "                                        seed=seed, \n",
    "                                        device=device,\n",
    "                                        classes=None) # small number of classes\n",
    "    size = X.shape\n",
    "    flattened_size = size[-1]*size[-2]*size[-3]\n",
    "    X_c, update_mask = add_gaussian_noise(X, noise_var, device)\n",
    "    X = X.reshape(-1, size[-1]*size[-2]*size[-3])\n",
    "    _, update_mask_test = add_gaussian_noise(X_test, noise_var, device)\n",
    "    X_test = X_test.reshape(-1, size[-1]*size[-2]*size[-3])\n",
    "\n",
    "    print(flattened_size)\n",
    "\n",
    "    nodes = [256, 256, flattened_size]\n",
    "    pcn_h = HierarchicalPCN(nodes, 'Tanh', inference_lr, lamb).to(device)\n",
    "    init_mem = pcn_h.memory.clone().detach()\n",
    "    optimizer = torch.optim.Adam(pcn_h.parameters(), lr=learning_lr)\n",
    "\n",
    "    train_mses = []\n",
    "    for i in range(learning_iters):\n",
    "        if i % 10 == 0:\n",
    "            print('Epoch', i)\n",
    "        for batch_idx in range(0, sample_size, batch_size):\n",
    "            data = X[batch_idx:batch_idx+batch_size]\n",
    "            optimizer.zero_grad()\n",
    "            pcn_h.train_pc_generative(data, inference_iters, update_mask)\n",
    "            optimizer.step()\n",
    "        train_mses.append(torch.mean(pcn_h.errs[-1]**2))"
   ]
  },
  {
   "cell_type": "code",
   "execution_count": 3,
   "metadata": {},
   "outputs": [
    {
     "name": "stdout",
     "output_type": "stream",
     "text": [
      "cosine sim: 0.24155197\n"
     ]
    },
    {
     "data": {
      "image/png": "[encoded data removed]",
      "text/plain": [
       "<Figure size 432x288 with 1 Axes>"
      ]
     },
     "metadata": {
      "needs_background": "light"
     },
     "output_type": "display_data"
    }
   ],
   "source": [
    "latent = pcn_h.val_nodes[0].cpu().detach().numpy()\n",
    "cos_mat = cosine_similarity(latent)\n",
    "print(\"cosine sim:\", np.mean(np.abs(cos_mat)))\n",
    "\n",
    "plt.figure()\n",
    "plt.plot([mse.cpu().detach().numpy() for mse in train_mses])\n",
    "plt.show()"
   ]
  },
  {
   "cell_type": "code",
   "execution_count": null,
   "metadata": {},
   "outputs": [],
   "source": []
  }
 ],
 "metadata": {
  "interpreter": {
   "hash": "ca5c25bf93067c7348ba3d42a008e787a9454ee8cb033b4344df9678d4d7ee5f"
  },
  "kernelspec": {
   "display_name": "Python 3.9.7 ('testenv')",
   "language": "python",
   "name": "python3"
  },
  "language_info": {
   "codemirror_mode": {
    "name": "ipython",
    "version": 3
   },
   "file_extension": ".py",
   "mimetype": "text/x-python",
   "name": "python",
   "nbconvert_exporter": "python",
   "pygments_lexer": "ipython3",
   "version": "3.9.7"
  },
  "orig_nbformat": 4
 },
 "nbformat": 4,
 "nbformat_minor": 2
}
